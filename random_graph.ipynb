from matplotlib import pyplot as plt
import numpy as np

# Generate 100 random data points along 3 dimensions
x, y ,scale= np.random.randn(3, 650)
fig, ax = plt.subplots()

# Map each onto a scatterplot we'll create with Matplotlib
ax.scatter(x,y,c=scale,s=np.abs(scale)*50)
my_x_ticks = np.arange(0, 2021,1)#设置坐标轴名称
ax.set(title="Some random data, created with JupyterLab!")
plt.show()
